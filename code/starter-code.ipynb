{
 "cells": [
  {
   "cell_type": "markdown",
   "metadata": {},
   "source": [
    "<img src=\"http://imgur.com/1ZcRyrc.png\" style=\"float: left; margin: 20px; height: 55px\">\n",
    "\n",
    "# Project 1: World Development Statistics"
   ]
  },
  {
   "cell_type": "markdown",
   "metadata": {},
   "source": [
    "--- \n",
    "# Part 1\n",
    "\n",
    "Part 1 requires knowledge of basic Python.\n",
    "\n",
    "---"
   ]
  },
  {
   "cell_type": "markdown",
   "metadata": {},
   "source": [
    "## Problem Statement"
   ]
  },
  {
   "cell_type": "markdown",
   "metadata": {},
   "source": [
    "Decide on your problem statement that will guide your analysis for this project. For guidelines, sample prompts, or inspiration, check out the README.\n",
    "\n",
    "**To-Do:** *Replace this cell with your problem statement.*"
   ]
  },
  {
   "cell_type": "markdown",
   "metadata": {},
   "source": [
    "### Contents:\n",
    "- [Background](#Background)\n",
    "- [Data Import & Cleaning](#Data-Import-and-Cleaning)\n",
    "- [Exploratory Data Analysis](#Exploratory-Data-Analysis)\n",
    "- [Data Visualization](#Visualize-the-Data)\n",
    "- [Conclusions and Recommendations](#Conclusions-and-Recommendations)"
   ]
  },
  {
   "cell_type": "markdown",
   "metadata": {},
   "source": [
    "## Background"
   ]
  },
  {
   "cell_type": "markdown",
   "metadata": {},
   "source": [
    "For our first project, we're going to take a look at World Development Statistics from [Gapminder](https://www.gapminder.org/about/), an independent Swedish foundation that aims to make data about the world more accessible and reliable. A good introduction on Gapminder is this [Ted Talk](https://www.ted.com/talks/hans_rosling_the_best_stats_you_ve_ever_seen) from Hans Rosling, which also shows how effective data visualization can be for your audience."
   ]
  },
  {
   "cell_type": "markdown",
   "metadata": {},
   "source": [
    "**To-Do:** *Fill out this cell (or edit the above cell) with any other background or information that is necessary for your problem statement.*"
   ]
  },
  {
   "cell_type": "markdown",
   "metadata": {},
   "source": [
    "### Choose your Data\n",
    "\n",
    "There are 3 datasets included in the [`data`](./data/) folder for this project. You are required to pick **at least two** of these to complete your analysis. Feel free to use more than two if you would like, or add other relevant datasets you find online. \n",
    "\n",
    "**HINT: There are more datasets available on the Gapminder website**\n",
    "\n",
    "* [`population.csv`](./data/population.csv): Population by Country\n",
    "* [`life_expectancy.csv`](./data/life_expectancy.csv): Life Expectancy by Country\n",
    "* [`gni_per_cap_atlas_method_con2021.csv`](./data/gni_per_cap_atlas_method_con2021.csv): Gross National Income (GNI) per capita in current US dollars"
   ]
  },
  {
   "cell_type": "markdown",
   "metadata": {},
   "source": [
    "**To-Do:** *Fill out this cell with the datasets you will use for your analysis. Write a brief description of the contents for each dataset that you choose.*"
   ]
  },
  {
   "cell_type": "markdown",
   "metadata": {},
   "source": [
    "### Outside Research"
   ]
  },
  {
   "cell_type": "markdown",
   "metadata": {},
   "source": [
    "Based on your problem statement and your chosen datasets, spend some time doing outside research on state policies or additional information that might be relevant. Summarize your findings below. If you bring in any outside tables or charts, make sure you are explicit about having borrowed them. If you quote any text, make sure that it renders as being quoted. **Make sure that you cite your sources.**"
   ]
  },
  {
   "cell_type": "markdown",
   "metadata": {},
   "source": [
    "**To-Do:** *Fill out this cell with outside research or any additional background information that will support your analysis.*"
   ]
  },
  {
   "cell_type": "markdown",
   "metadata": {},
   "source": [
    "### Coding Challenges\n",
    "\n",
    "1. Manually calculate mean:\n",
    "\n",
    "    Write a function that takes in values and returns the mean of the values. Create a list of numbers that you test on your function to check to make sure your function works!\n",
    "    \n",
    "    *Note*: Do not use any mean methods built-in to any Python libraries to do this! This should be done without importing any additional libraries."
   ]
  },
  {
   "cell_type": "code",
   "execution_count": 1,
   "metadata": {},
   "outputs": [
    {
     "data": {
      "text/html": [
       "<div>\n",
       "<style scoped>\n",
       "    .dataframe tbody tr th:only-of-type {\n",
       "        vertical-align: middle;\n",
       "    }\n",
       "\n",
       "    .dataframe tbody tr th {\n",
       "        vertical-align: top;\n",
       "    }\n",
       "\n",
       "    .dataframe thead th {\n",
       "        text-align: right;\n",
       "    }\n",
       "</style>\n",
       "<table border=\"1\" class=\"dataframe\">\n",
       "  <thead>\n",
       "    <tr style=\"text-align: right;\">\n",
       "      <th></th>\n",
       "      <th>country</th>\n",
       "      <th>1800</th>\n",
       "      <th>1801</th>\n",
       "      <th>1802</th>\n",
       "      <th>1803</th>\n",
       "      <th>1804</th>\n",
       "      <th>1805</th>\n",
       "      <th>1806</th>\n",
       "      <th>1807</th>\n",
       "      <th>1808</th>\n",
       "      <th>...</th>\n",
       "      <th>2091</th>\n",
       "      <th>2092</th>\n",
       "      <th>2093</th>\n",
       "      <th>2094</th>\n",
       "      <th>2095</th>\n",
       "      <th>2096</th>\n",
       "      <th>2097</th>\n",
       "      <th>2098</th>\n",
       "      <th>2099</th>\n",
       "      <th>2100</th>\n",
       "    </tr>\n",
       "  </thead>\n",
       "  <tbody>\n",
       "    <tr>\n",
       "      <th>0</th>\n",
       "      <td>Afghanistan</td>\n",
       "      <td>3.28M</td>\n",
       "      <td>3.28M</td>\n",
       "      <td>3.28M</td>\n",
       "      <td>3.28M</td>\n",
       "      <td>3.28M</td>\n",
       "      <td>3.28M</td>\n",
       "      <td>3.28M</td>\n",
       "      <td>3.28M</td>\n",
       "      <td>3.28M</td>\n",
       "      <td>...</td>\n",
       "      <td>108M</td>\n",
       "      <td>108M</td>\n",
       "      <td>109M</td>\n",
       "      <td>109M</td>\n",
       "      <td>109M</td>\n",
       "      <td>110M</td>\n",
       "      <td>110M</td>\n",
       "      <td>110M</td>\n",
       "      <td>111M</td>\n",
       "      <td>111M</td>\n",
       "    </tr>\n",
       "    <tr>\n",
       "      <th>1</th>\n",
       "      <td>Angola</td>\n",
       "      <td>1.57M</td>\n",
       "      <td>1.57M</td>\n",
       "      <td>1.57M</td>\n",
       "      <td>1.57M</td>\n",
       "      <td>1.57M</td>\n",
       "      <td>1.57M</td>\n",
       "      <td>1.57M</td>\n",
       "      <td>1.57M</td>\n",
       "      <td>1.57M</td>\n",
       "      <td>...</td>\n",
       "      <td>125M</td>\n",
       "      <td>126M</td>\n",
       "      <td>127M</td>\n",
       "      <td>128M</td>\n",
       "      <td>129M</td>\n",
       "      <td>130M</td>\n",
       "      <td>131M</td>\n",
       "      <td>131M</td>\n",
       "      <td>132M</td>\n",
       "      <td>133M</td>\n",
       "    </tr>\n",
       "    <tr>\n",
       "      <th>2</th>\n",
       "      <td>Albania</td>\n",
       "      <td>400k</td>\n",
       "      <td>402k</td>\n",
       "      <td>404k</td>\n",
       "      <td>405k</td>\n",
       "      <td>407k</td>\n",
       "      <td>409k</td>\n",
       "      <td>411k</td>\n",
       "      <td>413k</td>\n",
       "      <td>414k</td>\n",
       "      <td>...</td>\n",
       "      <td>1.35M</td>\n",
       "      <td>1.32M</td>\n",
       "      <td>1.29M</td>\n",
       "      <td>1.26M</td>\n",
       "      <td>1.23M</td>\n",
       "      <td>1.21M</td>\n",
       "      <td>1.18M</td>\n",
       "      <td>1.15M</td>\n",
       "      <td>1.12M</td>\n",
       "      <td>1.1M</td>\n",
       "    </tr>\n",
       "    <tr>\n",
       "      <th>3</th>\n",
       "      <td>Andorra</td>\n",
       "      <td>2650</td>\n",
       "      <td>2650</td>\n",
       "      <td>2650</td>\n",
       "      <td>2650</td>\n",
       "      <td>2650</td>\n",
       "      <td>2650</td>\n",
       "      <td>2650</td>\n",
       "      <td>2650</td>\n",
       "      <td>2650</td>\n",
       "      <td>...</td>\n",
       "      <td>62.5k</td>\n",
       "      <td>62.2k</td>\n",
       "      <td>61.9k</td>\n",
       "      <td>61.7k</td>\n",
       "      <td>61.4k</td>\n",
       "      <td>61.2k</td>\n",
       "      <td>60.9k</td>\n",
       "      <td>60.7k</td>\n",
       "      <td>60.5k</td>\n",
       "      <td>60.2k</td>\n",
       "    </tr>\n",
       "    <tr>\n",
       "      <th>4</th>\n",
       "      <td>United Arab Emirates</td>\n",
       "      <td>40.2k</td>\n",
       "      <td>40.2k</td>\n",
       "      <td>40.2k</td>\n",
       "      <td>40.2k</td>\n",
       "      <td>40.2k</td>\n",
       "      <td>40.2k</td>\n",
       "      <td>40.2k</td>\n",
       "      <td>40.2k</td>\n",
       "      <td>40.2k</td>\n",
       "      <td>...</td>\n",
       "      <td>13.5M</td>\n",
       "      <td>13.5M</td>\n",
       "      <td>13.6M</td>\n",
       "      <td>13.7M</td>\n",
       "      <td>13.8M</td>\n",
       "      <td>13.8M</td>\n",
       "      <td>13.9M</td>\n",
       "      <td>14M</td>\n",
       "      <td>14M</td>\n",
       "      <td>14.1M</td>\n",
       "    </tr>\n",
       "    <tr>\n",
       "      <th>...</th>\n",
       "      <td>...</td>\n",
       "      <td>...</td>\n",
       "      <td>...</td>\n",
       "      <td>...</td>\n",
       "      <td>...</td>\n",
       "      <td>...</td>\n",
       "      <td>...</td>\n",
       "      <td>...</td>\n",
       "      <td>...</td>\n",
       "      <td>...</td>\n",
       "      <td>...</td>\n",
       "      <td>...</td>\n",
       "      <td>...</td>\n",
       "      <td>...</td>\n",
       "      <td>...</td>\n",
       "      <td>...</td>\n",
       "      <td>...</td>\n",
       "      <td>...</td>\n",
       "      <td>...</td>\n",
       "      <td>...</td>\n",
       "      <td>...</td>\n",
       "    </tr>\n",
       "    <tr>\n",
       "      <th>192</th>\n",
       "      <td>Samoa</td>\n",
       "      <td>47.3k</td>\n",
       "      <td>47.3k</td>\n",
       "      <td>47.3k</td>\n",
       "      <td>47.3k</td>\n",
       "      <td>47.3k</td>\n",
       "      <td>47.3k</td>\n",
       "      <td>47.3k</td>\n",
       "      <td>47.2k</td>\n",
       "      <td>47.2k</td>\n",
       "      <td>...</td>\n",
       "      <td>432k</td>\n",
       "      <td>434k</td>\n",
       "      <td>435k</td>\n",
       "      <td>436k</td>\n",
       "      <td>437k</td>\n",
       "      <td>438k</td>\n",
       "      <td>439k</td>\n",
       "      <td>440k</td>\n",
       "      <td>441k</td>\n",
       "      <td>441k</td>\n",
       "    </tr>\n",
       "    <tr>\n",
       "      <th>193</th>\n",
       "      <td>Yemen</td>\n",
       "      <td>2.59M</td>\n",
       "      <td>2.59M</td>\n",
       "      <td>2.59M</td>\n",
       "      <td>2.59M</td>\n",
       "      <td>2.59M</td>\n",
       "      <td>2.59M</td>\n",
       "      <td>2.59M</td>\n",
       "      <td>2.59M</td>\n",
       "      <td>2.59M</td>\n",
       "      <td>...</td>\n",
       "      <td>73.2M</td>\n",
       "      <td>73.3M</td>\n",
       "      <td>73.5M</td>\n",
       "      <td>73.6M</td>\n",
       "      <td>73.7M</td>\n",
       "      <td>73.8M</td>\n",
       "      <td>73.9M</td>\n",
       "      <td>74M</td>\n",
       "      <td>74.1M</td>\n",
       "      <td>74.2M</td>\n",
       "    </tr>\n",
       "    <tr>\n",
       "      <th>194</th>\n",
       "      <td>South Africa</td>\n",
       "      <td>1.45M</td>\n",
       "      <td>1.45M</td>\n",
       "      <td>1.46M</td>\n",
       "      <td>1.46M</td>\n",
       "      <td>1.47M</td>\n",
       "      <td>1.47M</td>\n",
       "      <td>1.48M</td>\n",
       "      <td>1.49M</td>\n",
       "      <td>1.49M</td>\n",
       "      <td>...</td>\n",
       "      <td>75.6M</td>\n",
       "      <td>75.5M</td>\n",
       "      <td>75.4M</td>\n",
       "      <td>75.3M</td>\n",
       "      <td>75.2M</td>\n",
       "      <td>75.1M</td>\n",
       "      <td>75M</td>\n",
       "      <td>74.8M</td>\n",
       "      <td>74.7M</td>\n",
       "      <td>74.6M</td>\n",
       "    </tr>\n",
       "    <tr>\n",
       "      <th>195</th>\n",
       "      <td>Zambia</td>\n",
       "      <td>747k</td>\n",
       "      <td>758k</td>\n",
       "      <td>770k</td>\n",
       "      <td>782k</td>\n",
       "      <td>794k</td>\n",
       "      <td>806k</td>\n",
       "      <td>818k</td>\n",
       "      <td>831k</td>\n",
       "      <td>843k</td>\n",
       "      <td>...</td>\n",
       "      <td>60.3M</td>\n",
       "      <td>60.7M</td>\n",
       "      <td>61.1M</td>\n",
       "      <td>61.5M</td>\n",
       "      <td>61.9M</td>\n",
       "      <td>62.2M</td>\n",
       "      <td>62.6M</td>\n",
       "      <td>62.9M</td>\n",
       "      <td>63.3M</td>\n",
       "      <td>63.6M</td>\n",
       "    </tr>\n",
       "    <tr>\n",
       "      <th>196</th>\n",
       "      <td>Zimbabwe</td>\n",
       "      <td>1.09M</td>\n",
       "      <td>1.09M</td>\n",
       "      <td>1.09M</td>\n",
       "      <td>1.09M</td>\n",
       "      <td>1.09M</td>\n",
       "      <td>1.09M</td>\n",
       "      <td>1.09M</td>\n",
       "      <td>1.09M</td>\n",
       "      <td>1.09M</td>\n",
       "      <td>...</td>\n",
       "      <td>35.1M</td>\n",
       "      <td>35.2M</td>\n",
       "      <td>35.3M</td>\n",
       "      <td>35.4M</td>\n",
       "      <td>35.4M</td>\n",
       "      <td>35.5M</td>\n",
       "      <td>35.5M</td>\n",
       "      <td>35.6M</td>\n",
       "      <td>35.6M</td>\n",
       "      <td>35.6M</td>\n",
       "    </tr>\n",
       "  </tbody>\n",
       "</table>\n",
       "<p>197 rows × 302 columns</p>\n",
       "</div>"
      ],
      "text/plain": [
       "                  country   1800   1801   1802   1803   1804   1805   1806  \\\n",
       "0             Afghanistan  3.28M  3.28M  3.28M  3.28M  3.28M  3.28M  3.28M   \n",
       "1                  Angola  1.57M  1.57M  1.57M  1.57M  1.57M  1.57M  1.57M   \n",
       "2                 Albania   400k   402k   404k   405k   407k   409k   411k   \n",
       "3                 Andorra   2650   2650   2650   2650   2650   2650   2650   \n",
       "4    United Arab Emirates  40.2k  40.2k  40.2k  40.2k  40.2k  40.2k  40.2k   \n",
       "..                    ...    ...    ...    ...    ...    ...    ...    ...   \n",
       "192                 Samoa  47.3k  47.3k  47.3k  47.3k  47.3k  47.3k  47.3k   \n",
       "193                 Yemen  2.59M  2.59M  2.59M  2.59M  2.59M  2.59M  2.59M   \n",
       "194          South Africa  1.45M  1.45M  1.46M  1.46M  1.47M  1.47M  1.48M   \n",
       "195                Zambia   747k   758k   770k   782k   794k   806k   818k   \n",
       "196              Zimbabwe  1.09M  1.09M  1.09M  1.09M  1.09M  1.09M  1.09M   \n",
       "\n",
       "      1807   1808  ...   2091   2092   2093   2094   2095   2096   2097  \\\n",
       "0    3.28M  3.28M  ...   108M   108M   109M   109M   109M   110M   110M   \n",
       "1    1.57M  1.57M  ...   125M   126M   127M   128M   129M   130M   131M   \n",
       "2     413k   414k  ...  1.35M  1.32M  1.29M  1.26M  1.23M  1.21M  1.18M   \n",
       "3     2650   2650  ...  62.5k  62.2k  61.9k  61.7k  61.4k  61.2k  60.9k   \n",
       "4    40.2k  40.2k  ...  13.5M  13.5M  13.6M  13.7M  13.8M  13.8M  13.9M   \n",
       "..     ...    ...  ...    ...    ...    ...    ...    ...    ...    ...   \n",
       "192  47.2k  47.2k  ...   432k   434k   435k   436k   437k   438k   439k   \n",
       "193  2.59M  2.59M  ...  73.2M  73.3M  73.5M  73.6M  73.7M  73.8M  73.9M   \n",
       "194  1.49M  1.49M  ...  75.6M  75.5M  75.4M  75.3M  75.2M  75.1M    75M   \n",
       "195   831k   843k  ...  60.3M  60.7M  61.1M  61.5M  61.9M  62.2M  62.6M   \n",
       "196  1.09M  1.09M  ...  35.1M  35.2M  35.3M  35.4M  35.4M  35.5M  35.5M   \n",
       "\n",
       "      2098   2099   2100  \n",
       "0     110M   111M   111M  \n",
       "1     131M   132M   133M  \n",
       "2    1.15M  1.12M   1.1M  \n",
       "3    60.7k  60.5k  60.2k  \n",
       "4      14M    14M  14.1M  \n",
       "..     ...    ...    ...  \n",
       "192   440k   441k   441k  \n",
       "193    74M  74.1M  74.2M  \n",
       "194  74.8M  74.7M  74.6M  \n",
       "195  62.9M  63.3M  63.6M  \n",
       "196  35.6M  35.6M  35.6M  \n",
       "\n",
       "[197 rows x 302 columns]"
      ]
     },
     "execution_count": 1,
     "metadata": {},
     "output_type": "execute_result"
    }
   ],
   "source": [
    "# Code:\n",
    "import pandas as pd\n",
    "pd.read_csv(\"../data/population.csv\")"
   ]
  },
  {
   "cell_type": "markdown",
   "metadata": {},
   "source": [
    "2. Manually calculate standard deviation:\n",
    "\n",
    "    The formula for standard deviation is below:\n",
    "\n",
    "    $$\\sigma = \\sqrt{\\frac{1}{n}\\sum_{i=1}^n(x_i - \\mu)^2}$$\n",
    "\n",
    "    Where $x_i$ represents each value in the dataset, $\\mu$ represents the mean of all values in the dataset and $n$ represents the number of values in the dataset.\n",
    "\n",
    "    Write a function that takes in values and returns the standard deviation of the values using the formula above. Hint: use the function you wrote above to calculate the mean! Use the list of numbers you created above to test on your function.\n",
    "    \n",
    "    *Note*: Do not use any standard deviation methods built-in to any Python libraries to do this! This should be done without importing any additional libraries."
   ]
  },
  {
   "cell_type": "code",
   "execution_count": null,
   "metadata": {},
   "outputs": [],
   "source": [
    "# Code:"
   ]
  },
  {
   "cell_type": "markdown",
   "metadata": {},
   "source": [
    "3. Data cleaning function:\n",
    "    \n",
    "    Write a function that takes in a string consisting a number and an abbreviated place value (ex. '5M', '45K'), and converts that string to an integer. For example, inputting '5M' in your function should return 5000000, '45K' should return 45000, etc. Make sure to test your function to make sure it works!\n",
    "\n",
    "You will use these functions later on in the project!"
   ]
  },
  {
   "cell_type": "code",
   "execution_count": null,
   "metadata": {},
   "outputs": [],
   "source": [
    "# Code:"
   ]
  },
  {
   "cell_type": "markdown",
   "metadata": {},
   "source": [
    "--- \n",
    "# Part 2\n",
    "\n",
    "Part 2 requires knowledge of Pandas, EDA, data cleaning, and data visualization.\n",
    "\n",
    "---"
   ]
  },
  {
   "cell_type": "markdown",
   "metadata": {},
   "source": [
    "*All libraries used should be added here*"
   ]
  },
  {
   "cell_type": "code",
   "execution_count": 1,
   "metadata": {},
   "outputs": [],
   "source": [
    "# Imports:"
   ]
  },
  {
   "cell_type": "markdown",
   "metadata": {},
   "source": [
    "## Data Import and Cleaning"
   ]
  },
  {
   "cell_type": "markdown",
   "metadata": {},
   "source": [
    "### Data Import & Cleaning\n",
    "\n",
    "Import the datasets that you selected for this project and go through the following steps at a minimum. You are welcome to do further cleaning as you feel necessary:\n",
    "1. Display the data: print the first 5 rows of each dataframe to your Jupyter notebook.\n",
    "2. Check for missing values.\n",
    "3. Check for any obvious issues with the observations (keep in mind reasonable values for each column).\n",
    "4. Fix any errors you identified in steps 2-3.\n",
    "5. Display the data types of each feature.\n",
    "6. Fix any incorrect data types found in step 5.\n",
    "    - Fix any individual values preventing other columns from being the appropriate type.\n",
    "    - If your dataset has a column of abbreviated numbers (ex. '3M', '45K', etc.), use the function you wrote in Part 1 (coding challenges, number 3) to convert this to integers! *Hint*: use `.map()` or `.apply()`.\n",
    "7. Rename Columns.\n",
    "    - Column names should be all lowercase.\n",
    "    - Column names should not contain spaces (underscores will suffice--this allows for using the `df.column_name` method to access columns in addition to `df['column_name']`).\n",
    "    - Column names should be unique and informative.\n",
    "8. Drop unnecessary rows (if needed).\n",
    "9. Merge dataframes that can be merged.\n",
    "10. Perform any additional cleaning that you feel is necessary.\n",
    "11. Save your cleaned and merged dataframes as csv files."
   ]
  },
  {
   "cell_type": "code",
   "execution_count": null,
   "metadata": {},
   "outputs": [],
   "source": [
    "# Code:"
   ]
  },
  {
   "cell_type": "markdown",
   "metadata": {},
   "source": [
    "### Data Dictionary\n",
    "\n",
    "Now that we've fixed our data, and given it appropriate names, let's create a [data dictionary](http://library.ucmerced.edu/node/10249). \n",
    "\n",
    "A data dictionary provides a quick overview of features/variables/columns, alongside data types and descriptions. The more descriptive you can be, the more useful this document is.\n",
    "\n",
    "Example of a Fictional Data Dictionary Entry: \n",
    "\n",
    "|Feature|Type|Dataset|Description|\n",
    "|---|---|---|---|\n",
    "|**county_pop**|*integer*|2010 census|The population of the county (units in thousands, where 2.5 represents 2500 people).| \n",
    "|**per_poverty**|*float*|2010 census|The percent of the county over the age of 18 living below the 200% of official US poverty rate (units percent to two decimal places 98.10 means 98.1%)|\n",
    "\n",
    "[Here's a quick link to a short guide for formatting markdown in Jupyter notebooks](https://jupyter-notebook.readthedocs.io/en/stable/examples/Notebook/Working%20With%20Markdown%20Cells.html).\n",
    "\n",
    "Provided is the skeleton for formatting a markdown table, with columns headers that will help you create a data dictionary to quickly summarize your data, as well as some examples. **This would be a great thing to copy and paste into your custom README for this project.**\n",
    "\n",
    "*Note*: if you are unsure of what a feature is, check the source of the data! This can be found in the README."
   ]
  },
  {
   "cell_type": "markdown",
   "metadata": {},
   "source": [
    "**To-Do:** *Edit the table below to create your own data dictionary for the datasets you chose.*\n",
    "\n",
    "|Feature|Type|Dataset|Description|\n",
    "|---|---|---|---|\n",
    "|column name|int/float/object|This is an example| \n"
   ]
  },
  {
   "cell_type": "markdown",
   "metadata": {},
   "source": [
    "## Exploratory Data Analysis\n",
    "\n",
    "Complete the following steps to explore your data. You are welcome to do more EDA than the steps outlined here as you feel necessary:\n",
    "1. Summary Statistics.\n",
    "2. Use a **dictionary comprehension** to apply the standard deviation function you create in part 1 to each numeric column in one of your dataframes.  **No loops**.\n",
    "    - Assign the output to variable `sd` as a dictionary where: \n",
    "        - Each column name is now a key \n",
    "        - That standard deviation of the column is the value\n",
    "        - *Example Output :* `{'1801': 3.80, '1802': 3.93, ...}`\n",
    "3. Investigate trends in the data.\n",
    "    - Using sorting and/or masking (along with the `.head()` method to avoid printing our entire dataframe), consider questions relevant to your problem statement. Some examples are provided below (but feel free to change these questions for your specific problem):\n",
    "        - Which states have the highest and lowest populations for the past few decades?\n",
    "        - Which states have the highest and lowest economic growth over the course of the dataset?\n",
    "        - What years were there new countries created?\n",
    "        - Do any countries have higher growth rates of population than their economy?\n",
    "        - Which countries have had the lowest population growth?\n",
    "    - **You should comment on your findings at each step in a markdown cell below your code block**. Make sure you include at least one example of sorting your dataframe by a column, and one example of using boolean filtering (i.e., masking) to select a subset of the dataframe."
   ]
  },
  {
   "cell_type": "code",
   "execution_count": null,
   "metadata": {},
   "outputs": [],
   "source": [
    "#Code:"
   ]
  },
  {
   "cell_type": "markdown",
   "metadata": {},
   "source": [
    "**To-Do:** *Edit this cell with your findings on trends in the data (step 3 above).*"
   ]
  },
  {
   "cell_type": "markdown",
   "metadata": {},
   "source": [
    "## Visualize the Data\n",
    "\n",
    "There's not a magic bullet recommendation for the right number of plots to understand a given dataset, but visualizing your data is *always* a good idea. Not only does it allow you to quickly convey your findings (even if you have a non-technical audience), it will often reveal trends in your data that escaped you when you were looking only at numbers. It is important to not only create visualizations, but to **interpret your visualizations** as well.\n",
    "\n",
    "**Every plot should**:\n",
    "- Have a title\n",
    "- Have axis labels\n",
    "- Have appropriate tick labels\n",
    "- Text is legible in a plot\n",
    "- Plots demonstrate meaningful and valid relationships\n",
    "- Have an interpretation to aid understanding\n",
    "\n",
    "Here is an example of what your plots should look like following the above guidelines. Note that while the content of this example is unrelated, the principles of visualization hold:\n",
    "\n",
    "![](https://snag.gy/hCBR1U.jpg)\n",
    "*Interpretation: The above image shows that as we increase our spending on advertising, our sales numbers also tend to increase. There is a positive correlation between advertising spending and sales.*\n",
    "\n",
    "---\n",
    "\n",
    "Here are some prompts to get you started with visualizations. Feel free to add additional visualizations as you see fit:\n",
    "1. Use Seaborn's heatmap with pandas `.corr()` to visualize correlations between all numeric features.\n",
    "    - Heatmaps are generally not appropriate for presentations, and should often be excluded from reports as they can be visually overwhelming. **However**, they can be extremely useful in identify relationships of potential interest (as well as identifying potential collinearity before modeling).\n",
    "    - Please take time to format your output, adding a title. Look through some of the additional arguments and options. (Axis labels aren't really necessary, as long as the title is informative).\n",
    "2. Visualize distributions using histograms. If you have a lot, consider writing a custom function and use subplots.\n",
    "    - *OPTIONAL*: Summarize the underlying distributions of your features (in words & statistics)\n",
    "         - Be thorough in your verbal description of these distributions.\n",
    "         - Be sure to back up these summaries with statistics.\n",
    "         - We generally assume that data we sample from a population will be normally distributed. Do we observe this trend? Explain your answers for each distribution and how you think this will affect estimates made from these data.\n",
    "3. Plot and interpret boxplots. \n",
    "    - Boxplots demonstrate central tendency and spread in variables. In a certain sense, these are somewhat redundant with histograms, but you may be better able to identify clear outliers or differences in IQR, etc.\n",
    "    - Multiple values can be plotted to a single boxplot as long as they are of the same relative scale (meaning they have similar min/max values).\n",
    "    - Each boxplot should:\n",
    "        - Only include variables of a similar scale\n",
    "        - Have clear labels for each variable\n",
    "        - Have appropriate titles and labels\n",
    "4. Plot and interpret scatter plots to view relationships between features. Feel free to write a custom function, and subplot if you'd like. Functions save both time and space.\n",
    "    - Your plots should have:\n",
    "        - Two clearly labeled axes\n",
    "        - A proper title\n",
    "        - Colors and symbols that are clear and unmistakable\n",
    "5. Additional plots of your choosing.\n",
    "    - Are there any additional trends or relationships you haven't explored? Was there something interesting you saw that you'd like to dive further into? It's likely that there are a few more plots you might want to generate to support your narrative and recommendations that you are building toward. **As always, make sure you're interpreting your plots as you go**."
   ]
  },
  {
   "cell_type": "code",
   "execution_count": null,
   "metadata": {},
   "outputs": [],
   "source": [
    "# Code"
   ]
  },
  {
   "cell_type": "markdown",
   "metadata": {},
   "source": [
    "## Conclusions and Recommendations"
   ]
  },
  {
   "cell_type": "markdown",
   "metadata": {},
   "source": [
    "Based on your exploration of the data, what are you key takeaways and recommendations? Make sure to answer your question of interest or address your problem statement here."
   ]
  },
  {
   "cell_type": "markdown",
   "metadata": {},
   "source": [
    "**To-Do:** *Edit this cell with your conclusions and recommendations.*"
   ]
  },
  {
   "cell_type": "markdown",
   "metadata": {},
   "source": [
    "**Don't forget to create your README!**\n",
    "\n",
    "**To-Do:** *If you combine your problem statement, data dictionary, brief summary of your analysis, and conclusions/recommendations, you have an amazing README.md file that quickly aligns your audience to the contents of your project.* Don't forget to cite your data sources!"
   ]
  },
  {
   "cell_type": "code",
   "execution_count": null,
   "metadata": {},
   "outputs": [],
   "source": []
  }
 ],
 "metadata": {
  "anaconda-cloud": {},
  "kernelspec": {
   "display_name": "Python 3 (ipykernel)",
   "language": "python",
   "name": "python3"
  },
  "language_info": {
   "codemirror_mode": {
    "name": "ipython",
    "version": 3
   },
   "file_extension": ".py",
   "mimetype": "text/x-python",
   "name": "python",
   "nbconvert_exporter": "python",
   "pygments_lexer": "ipython3",
   "version": "3.9.7"
  }
 },
 "nbformat": 4,
 "nbformat_minor": 4
}
